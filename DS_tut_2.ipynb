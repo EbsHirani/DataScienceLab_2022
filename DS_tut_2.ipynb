{
  "nbformat": 4,
  "nbformat_minor": 0,
  "metadata": {
    "colab": {
      "name": "DS-tut-2.ipynb",
      "provenance": []
    },
    "kernelspec": {
      "name": "python3",
      "display_name": "Python 3"
    },
    "language_info": {
      "name": "python"
    }
  },
  "cells": [
    {
      "cell_type": "markdown",
      "source": [
        "Q.1: What is ‘Curse of Dimensionality’? Explain\n",
        "\n",
        "The curse of dimensionality is a problem that arises when data consists of high number of features. This type of data is known as high dimensional data. The dimension of the data represent the number of features/columns present in the dataset. The increase in number of features does not always improve the performance of the model. The studies show that, including more number of features might actually leads to worse performance.\n",
        "The problem with high dimensional data is that it becomes difficult to identify meaningful patterns while analyzing dataa and it degrades the accuracy of model while also decreasing the computation speed. Hence the training becomes slower as the dimensions increase.\n",
        "With the increase in dimensions, there are more chances for the occurrence of multicollinearity as well.\n",
        "\n"
      ],
      "metadata": {
        "id": "D5UiomHzYmjt"
      }
    },
    {
      "cell_type": "markdown",
      "source": [
        "Q.2: What is feature selection? Why is it needed? What are the different approaches of feature selection?\n",
        "\n",
        "Feature selection is the process of selecting a minimum number of features such that the probability distribution of different classes, given the values for their features, is as close as possible to original distribution\n",
        "Feature selection is performed by either including the important features or excluding the irrelevant features in the dataset without changing them.\n",
        "\n",
        "Feature Selection is needed to avoid the 'Curse of Dimensionality'\n",
        "It is necessary to provide a pre-processed and good input dataset in order to get better outcomes. It is needed to simplify the model so that it can be easily interpreted by the researchers. It is implemented to reduce the training time and avoid overfitting, enhancing generalization.\n",
        "\n",
        "\n",
        "\n",
        "There are mainly two types of Feature Selection techniques, which are:\n",
        "\n",
        "Supervised Feature Selection technique - Consider the target variable and can be used for the labelled dataset.\n",
        "\n",
        "Unsupervised Feature Selection technique - Ignore the target variable and can be used for the unlabelled dataset.\n",
        "\n"
      ],
      "metadata": {
        "id": "r0N1UAvUY4DS"
      }
    },
    {
      "cell_type": "code",
      "execution_count": 1,
      "metadata": {
        "id": "rf2_rZJDYi-R"
      },
      "outputs": [],
      "source": [
        "import numpy as np\n",
        "import pandas as pd\n",
        "import matplotlib.pyplot as plt\n",
        "import seaborn as sns\n",
        "\n",
        "from sklearn.datasets import make_classification\n",
        "from sklearn.model_selection import train_test_split, cross_val_score, RepeatedStratifiedKFold, GridSearchCV\n",
        "from sklearn.discriminant_analysis import LinearDiscriminantAnalysis\n",
        "from sklearn.metrics import accuracy_score, classification_report, confusion_matrix, mean_squared_error, roc_curve, roc_auc_score, auc\n",
        "from sklearn.preprocessing import StandardScaler\n",
        "from itertools import cycle"
      ]
    },
    {
      "cell_type": "code",
      "source": [
        "X, y = make_classification(n_samples=1000, n_features=10, n_informative=10, n_redundant=0, random_state=1)\n",
        "print(X.shape, y.shape)"
      ],
      "metadata": {
        "colab": {
          "base_uri": "https://localhost:8080/"
        },
        "id": "H4ulEcT0Zcsi",
        "outputId": "bff2b862-5642-4d77-94ce-4a4aebbad730"
      },
      "execution_count": 2,
      "outputs": [
        {
          "output_type": "stream",
          "name": "stdout",
          "text": [
            "(1000, 10) (1000,)\n"
          ]
        }
      ]
    },
    {
      "cell_type": "code",
      "source": [
        "model = LinearDiscriminantAnalysis()\n"
      ],
      "metadata": {
        "id": "q5ZzLRvKZgaR"
      },
      "execution_count": 3,
      "outputs": []
    },
    {
      "cell_type": "code",
      "source": [
        "cv = RepeatedStratifiedKFold(n_splits=10, n_repeats=3, random_state=1)\n",
        "scores = cross_val_score(model, X, y, scoring='accuracy', cv=cv, n_jobs=-1)\n",
        "print('Mean Accuracy: %.3f (%.3f)' % (np.mean(scores), np.std(scores)))\n"
      ],
      "metadata": {
        "colab": {
          "base_uri": "https://localhost:8080/"
        },
        "id": "6iynxVLIZgwM",
        "outputId": "330723b2-e1fb-4b92-935d-735af2efdb0f"
      },
      "execution_count": 4,
      "outputs": [
        {
          "output_type": "stream",
          "name": "stdout",
          "text": [
            "Mean Accuracy: 0.893 (0.033)\n"
          ]
        }
      ]
    },
    {
      "cell_type": "code",
      "source": [
        "X_train, X_test, y_train, y_test = train_test_split(X, y, test_size=0.20, random_state=42)\n",
        "model.fit(X_train, y_train)\n"
      ],
      "metadata": {
        "colab": {
          "base_uri": "https://localhost:8080/"
        },
        "id": "vi5s7wTsZkNj",
        "outputId": "0b77ef7a-c3b6-4598-bc8a-d6c9dd2f3c42"
      },
      "execution_count": 5,
      "outputs": [
        {
          "output_type": "execute_result",
          "data": {
            "text/plain": [
              "LinearDiscriminantAnalysis()"
            ]
          },
          "metadata": {},
          "execution_count": 5
        }
      ]
    },
    {
      "cell_type": "code",
      "source": [
        "model.get_params()\n"
      ],
      "metadata": {
        "colab": {
          "base_uri": "https://localhost:8080/"
        },
        "id": "D0Pl9inGZnYU",
        "outputId": "6d9d0f36-54a9-4070-c1a3-8ad862e6760e"
      },
      "execution_count": 6,
      "outputs": [
        {
          "output_type": "execute_result",
          "data": {
            "text/plain": [
              "{'covariance_estimator': None,\n",
              " 'n_components': None,\n",
              " 'priors': None,\n",
              " 'shrinkage': None,\n",
              " 'solver': 'svd',\n",
              " 'store_covariance': False,\n",
              " 'tol': 0.0001}"
            ]
          },
          "metadata": {},
          "execution_count": 6
        }
      ]
    },
    {
      "cell_type": "code",
      "source": [
        "y_pred = model.predict(X_test)\n",
        "print(f\"Test Accuracy: {round(accuracy_score(y_test, y_pred) * 100,3)} %\" )\n"
      ],
      "metadata": {
        "colab": {
          "base_uri": "https://localhost:8080/"
        },
        "id": "aN9NUKi5Zo4v",
        "outputId": "31519447-21aa-430c-ef77-1ee224389556"
      },
      "execution_count": 7,
      "outputs": [
        {
          "output_type": "stream",
          "name": "stdout",
          "text": [
            "Test Accuracy: 91.0 %\n"
          ]
        }
      ]
    },
    {
      "cell_type": "code",
      "source": [
        "cm = confusion_matrix(y_test, y_pred)\n",
        "\n",
        "fig, ax = plt.subplots(figsize=(5, 5))\n",
        "ax.imshow(cm)\n",
        "ax.grid(False)\n",
        "ax.set_xlabel('Predicted outputs', fontsize=12, color='black')\n",
        "ax.set_ylabel('Actual outputs', fontsize=12, color='black')\n",
        "ax.xaxis.set(ticks=range(2))\n",
        "ax.yaxis.set(ticks=range(2))\n",
        "for i in range(2):\n",
        "    for j in range(2):\n",
        "        ax.text(j, i, cm[i, j], ha='center', va='center', color='white')\n",
        "plt.show()"
      ],
      "metadata": {
        "colab": {
          "base_uri": "https://localhost:8080/",
          "height": 337
        },
        "id": "Jui_tgzkZrkN",
        "outputId": "4187f06f-6f70-4a3a-fd34-d4096688a3b5"
      },
      "execution_count": 8,
      "outputs": [
        {
          "output_type": "display_data",
          "data": {
            "text/plain": [
              "<Figure size 360x360 with 1 Axes>"
            ],
            "image/png": "[encoded data removed]"
          },
          "metadata": {
            "needs_background": "light"
          }
        }
      ]
    },
    {
      "cell_type": "code",
      "source": [
        "print(classification_report(y_test, y_pred))\n"
      ],
      "metadata": {
        "colab": {
          "base_uri": "https://localhost:8080/"
        },
        "id": "obcctTnPZtaw",
        "outputId": "019aa83c-76cb-4aa6-eec1-07537a77e42c"
      },
      "execution_count": 9,
      "outputs": [
        {
          "output_type": "stream",
          "name": "stdout",
          "text": [
            "              precision    recall  f1-score   support\n",
            "\n",
            "           0       0.95      0.85      0.90        96\n",
            "           1       0.88      0.96      0.92       104\n",
            "\n",
            "    accuracy                           0.91       200\n",
            "   macro avg       0.92      0.91      0.91       200\n",
            "weighted avg       0.91      0.91      0.91       200\n",
            "\n"
          ]
        }
      ]
    },
    {
      "cell_type": "code",
      "source": [
        "y_prob = model.predict_proba(X_test)\n",
        "\n",
        "y_prob = y_prob[:, 1]\n",
        "\n",
        "n_classes = len(model.classes_)\n",
        "\n",
        "fpr, tpr,_ = roc_curve(y_test, y_prob)\n",
        "roc_auc = auc(fpr, tpr)"
      ],
      "metadata": {
        "id": "OMyt-8YzZutk"
      },
      "execution_count": 10,
      "outputs": []
    },
    {
      "cell_type": "code",
      "source": [
        "lw = 2\n",
        "plt.plot(\n",
        "    fpr,\n",
        "    tpr,\n",
        "    color=\"darkorange\",\n",
        "    lw=lw,\n",
        "    label=\"ROC curve (area = %0.2f)\" % roc_auc,\n",
        ")\n",
        "plt.plot([0, 1], [0, 1], color=\"navy\", lw=lw, linestyle=\"--\")\n",
        "plt.xlim([0.0, 1.0])\n",
        "plt.ylim([0.0, 1.05])\n",
        "plt.xlabel(\"False Positive Rate\")\n",
        "plt.ylabel(\"True Positive Rate\")\n",
        "plt.title(\"Receiver Operating Characteristic Curve\")\n",
        "plt.legend(loc=\"lower right\")\n",
        "plt.show()"
      ],
      "metadata": {
        "colab": {
          "base_uri": "https://localhost:8080/",
          "height": 295
        },
        "id": "PPsjxt76ZwmY",
        "outputId": "59f8011a-99c5-4dac-9008-a97620e08d62"
      },
      "execution_count": 11,
      "outputs": [
        {
          "output_type": "display_data",
          "data": {
            "text/plain": [
              "<Figure size 432x288 with 1 Axes>"
            ],
            "image/png": "[encoded data removed]"
          },
          "metadata": {
            "needs_background": "light"
          }
        }
      ]
    },
    {
      "cell_type": "code",
      "source": [
        ""
      ],
      "metadata": {
        "id": "0p30R7fLZzc_"
      },
      "execution_count": null,
      "outputs": []
    }
  ]
}